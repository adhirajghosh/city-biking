{
 "cells": [
  {
   "cell_type": "code",
   "execution_count": 1,
   "id": "fe2c105b-71f1-4852-8b8f-9b0529c36b3f",
   "metadata": {
    "pycharm": {
     "name": "#%%\n"
    }
   },
   "outputs": [],
   "source": [
    "import pandas as pd\n",
    "\n",
    "import matplotlib.pyplot as plt\n",
    "import seaborn as sns\n",
    "\n",
    "from utils import *"
   ]
  },
  {
   "cell_type": "code",
   "execution_count": 2,
   "id": "5a0fe458-a0ca-4aa3-8534-f8ad12fdeb2c",
   "metadata": {
    "pycharm": {
     "name": "#%%\n"
    }
   },
   "outputs": [],
   "source": [
    "df_columns = ['start_time', 'startstation_latitude', 'startstation_longitude', 'endstation_latitude', 'endstation_longitude', 'birthyear', 'gender', 'year']"
   ]
  },
  {
   "cell_type": "code",
   "execution_count": 3,
   "id": "4545ee0a-9b4d-4da1-b5e2-88f87eac140d",
   "metadata": {},
   "outputs": [],
   "source": [
    "df = pd.DataFrame(columns=df_columns)\n",
    "\n",
    "path = \"data/nyc/\"\n",
    "for file in os.listdir(path):\n",
    "    year = file[:4]\n",
    "    if year.isnumeric() and int(year) < 2017:\n",
    "        data = pd.read_csv(path + file)\n",
    "        data.loc[:, 'year'] = int(year)\n",
    "        \n",
    "        data_columns = data.columns.to_numpy()[[1, 5, 6, 9, 10, 13, 14, 15]].tolist()\n",
    "        data = data.loc[:, data_columns]\n",
    "\n",
    "        data.columns = df_columns\n",
    "\n",
    "        df = pd.concat([df, data[df_columns]])\n",
    "\n",
    "df.year = df.year.astype('int64')\n",
    "\n",
    "df = df.reset_index(drop=True)"
   ]
  },
  {
   "cell_type": "code",
   "execution_count": 4,
   "id": "c1e0b693-5899-4286-82fe-1164e77af0ca",
   "metadata": {},
   "outputs": [
    {
     "data": {
      "text/html": [
       "<div>\n",
       "<style scoped>\n",
       "    .dataframe tbody tr th:only-of-type {\n",
       "        vertical-align: middle;\n",
       "    }\n",
       "\n",
       "    .dataframe tbody tr th {\n",
       "        vertical-align: top;\n",
       "    }\n",
       "\n",
       "    .dataframe thead th {\n",
       "        text-align: right;\n",
       "    }\n",
       "</style>\n",
       "<table border=\"1\" class=\"dataframe\">\n",
       "  <thead>\n",
       "    <tr style=\"text-align: right;\">\n",
       "      <th></th>\n",
       "      <th>start_time</th>\n",
       "      <th>startstation_latitude</th>\n",
       "      <th>startstation_longitude</th>\n",
       "      <th>endstation_latitude</th>\n",
       "      <th>endstation_longitude</th>\n",
       "      <th>birthyear</th>\n",
       "      <th>gender</th>\n",
       "      <th>year</th>\n",
       "    </tr>\n",
       "  </thead>\n",
       "  <tbody>\n",
       "    <tr>\n",
       "      <th>0</th>\n",
       "      <td>2014-01-01 00:00:06</td>\n",
       "      <td>40.711174</td>\n",
       "      <td>-73.996826</td>\n",
       "      <td>40.717290</td>\n",
       "      <td>-73.996375</td>\n",
       "      <td>1986</td>\n",
       "      <td>1</td>\n",
       "      <td>2014</td>\n",
       "    </tr>\n",
       "    <tr>\n",
       "      <th>1</th>\n",
       "      <td>2014-01-01 00:00:38</td>\n",
       "      <td>40.741444</td>\n",
       "      <td>-73.975361</td>\n",
       "      <td>40.701221</td>\n",
       "      <td>-74.012342</td>\n",
       "      <td>1963</td>\n",
       "      <td>1</td>\n",
       "      <td>2014</td>\n",
       "    </tr>\n",
       "    <tr>\n",
       "      <th>2</th>\n",
       "      <td>2014-01-01 00:03:59</td>\n",
       "      <td>40.754601</td>\n",
       "      <td>-73.971879</td>\n",
       "      <td>40.758491</td>\n",
       "      <td>-73.959206</td>\n",
       "      <td>1991</td>\n",
       "      <td>1</td>\n",
       "      <td>2014</td>\n",
       "    </tr>\n",
       "    <tr>\n",
       "      <th>3</th>\n",
       "      <td>2014-01-01 00:05:15</td>\n",
       "      <td>40.751884</td>\n",
       "      <td>-73.977702</td>\n",
       "      <td>40.747659</td>\n",
       "      <td>-73.984907</td>\n",
       "      <td>1989</td>\n",
       "      <td>1</td>\n",
       "      <td>2014</td>\n",
       "    </tr>\n",
       "    <tr>\n",
       "      <th>4</th>\n",
       "      <td>2014-01-01 00:05:18</td>\n",
       "      <td>40.683826</td>\n",
       "      <td>-73.976323</td>\n",
       "      <td>40.682166</td>\n",
       "      <td>-73.953990</td>\n",
       "      <td>1990</td>\n",
       "      <td>1</td>\n",
       "      <td>2014</td>\n",
       "    </tr>\n",
       "    <tr>\n",
       "      <th>...</th>\n",
       "      <td>...</td>\n",
       "      <td>...</td>\n",
       "      <td>...</td>\n",
       "      <td>...</td>\n",
       "      <td>...</td>\n",
       "      <td>...</td>\n",
       "      <td>...</td>\n",
       "      <td>...</td>\n",
       "    </tr>\n",
       "    <tr>\n",
       "      <th>27780019</th>\n",
       "      <td>2016-12-31 23:56:15</td>\n",
       "      <td>40.739017</td>\n",
       "      <td>-74.002638</td>\n",
       "      <td>40.730477</td>\n",
       "      <td>-73.999061</td>\n",
       "      <td>1974.0</td>\n",
       "      <td>2</td>\n",
       "      <td>2016</td>\n",
       "    </tr>\n",
       "    <tr>\n",
       "      <th>27780020</th>\n",
       "      <td>2016-12-31 23:56:19</td>\n",
       "      <td>40.764397</td>\n",
       "      <td>-73.973715</td>\n",
       "      <td>40.776829</td>\n",
       "      <td>-73.963888</td>\n",
       "      <td>1983.0</td>\n",
       "      <td>1</td>\n",
       "      <td>2016</td>\n",
       "    </tr>\n",
       "    <tr>\n",
       "      <th>27780021</th>\n",
       "      <td>2016-12-31 23:56:35</td>\n",
       "      <td>40.791976</td>\n",
       "      <td>-73.945993</td>\n",
       "      <td>40.791270</td>\n",
       "      <td>-73.964839</td>\n",
       "      <td>1970.0</td>\n",
       "      <td>2</td>\n",
       "      <td>2016</td>\n",
       "    </tr>\n",
       "    <tr>\n",
       "      <th>27780022</th>\n",
       "      <td>2016-12-31 23:59:31</td>\n",
       "      <td>40.771639</td>\n",
       "      <td>-73.982614</td>\n",
       "      <td>40.787209</td>\n",
       "      <td>-73.981281</td>\n",
       "      <td>1961.0</td>\n",
       "      <td>1</td>\n",
       "      <td>2016</td>\n",
       "    </tr>\n",
       "    <tr>\n",
       "      <th>27780023</th>\n",
       "      <td>2016-12-31 23:59:56</td>\n",
       "      <td>40.729236</td>\n",
       "      <td>-73.990868</td>\n",
       "      <td>40.748549</td>\n",
       "      <td>-73.988084</td>\n",
       "      <td>1985.0</td>\n",
       "      <td>1</td>\n",
       "      <td>2016</td>\n",
       "    </tr>\n",
       "  </tbody>\n",
       "</table>\n",
       "<p>27780024 rows × 8 columns</p>\n",
       "</div>"
      ],
      "text/plain": [
       "                   start_time  startstation_latitude  startstation_longitude  \\\n",
       "0         2014-01-01 00:00:06              40.711174              -73.996826   \n",
       "1         2014-01-01 00:00:38              40.741444              -73.975361   \n",
       "2         2014-01-01 00:03:59              40.754601              -73.971879   \n",
       "3         2014-01-01 00:05:15              40.751884              -73.977702   \n",
       "4         2014-01-01 00:05:18              40.683826              -73.976323   \n",
       "...                       ...                    ...                     ...   \n",
       "27780019  2016-12-31 23:56:15              40.739017              -74.002638   \n",
       "27780020  2016-12-31 23:56:19              40.764397              -73.973715   \n",
       "27780021  2016-12-31 23:56:35              40.791976              -73.945993   \n",
       "27780022  2016-12-31 23:59:31              40.771639              -73.982614   \n",
       "27780023  2016-12-31 23:59:56              40.729236              -73.990868   \n",
       "\n",
       "          endstation_latitude  endstation_longitude birthyear gender  year  \n",
       "0                   40.717290            -73.996375      1986      1  2014  \n",
       "1                   40.701221            -74.012342      1963      1  2014  \n",
       "2                   40.758491            -73.959206      1991      1  2014  \n",
       "3                   40.747659            -73.984907      1989      1  2014  \n",
       "4                   40.682166            -73.953990      1990      1  2014  \n",
       "...                       ...                   ...       ...    ...   ...  \n",
       "27780019            40.730477            -73.999061    1974.0      2  2016  \n",
       "27780020            40.776829            -73.963888    1983.0      1  2016  \n",
       "27780021            40.791270            -73.964839    1970.0      2  2016  \n",
       "27780022            40.787209            -73.981281    1961.0      1  2016  \n",
       "27780023            40.748549            -73.988084    1985.0      1  2016  \n",
       "\n",
       "[27780024 rows x 8 columns]"
      ]
     },
     "execution_count": 4,
     "metadata": {},
     "output_type": "execute_result"
    }
   ],
   "source": [
    "df"
   ]
  },
  {
   "cell_type": "code",
   "execution_count": 5,
   "id": "83ff9e1f-64f1-47a8-99a7-33b84e0fbce0",
   "metadata": {},
   "outputs": [
    {
     "data": {
      "text/plain": [
       "start_time                0.000000\n",
       "startstation_latitude     0.000000\n",
       "startstation_longitude    0.000000\n",
       "endstation_latitude       0.000000\n",
       "endstation_longitude      0.000000\n",
       "birthyear                 0.093329\n",
       "gender                    0.000000\n",
       "year                      0.000000\n",
       "dtype: float64"
      ]
     },
     "execution_count": 5,
     "metadata": {},
     "output_type": "execute_result"
    }
   ],
   "source": [
    "np.mean(df.isna(), axis=0)"
   ]
  },
  {
   "cell_type": "code",
   "execution_count": 6,
   "id": "0cb21814-bf70-4353-a2ab-034a39386061",
   "metadata": {},
   "outputs": [
    {
     "name": "stderr",
     "output_type": "stream",
     "text": [
      "C:\\Users\\Ignacio\\AppData\\Local\\Temp\\ipykernel_34500\\3808632092.py:4: SettingWithCopyWarning: \n",
      "A value is trying to be set on a copy of a slice from a DataFrame.\n",
      "Try using .loc[row_indexer,col_indexer] = value instead\n",
      "\n",
      "See the caveats in the documentation: https://pandas.pydata.org/pandas-docs/stable/user_guide/indexing.html#returning-a-view-versus-a-copy\n",
      "  df.birthyear = df.birthyear.astype('int64')\n"
     ]
    }
   ],
   "source": [
    "# remove null and non-numeric values of birthyear\n",
    "# remove all birthyears before 1920\n",
    "df = df.loc[pd.to_numeric(df.birthyear, errors='coerce').notnull()]\n",
    "df.birthyear = df.birthyear.astype('int64')\n",
    "df = df.loc[df.birthyear > 1920]"
   ]
  },
  {
   "cell_type": "code",
   "execution_count": 7,
   "id": "29caccdb-b085-49bb-8570-4132da0df28d",
   "metadata": {},
   "outputs": [],
   "source": [
    "# remove invalid gender code\n",
    "df = df.loc[df.gender != 0]\n",
    "df.gender = df.gender.astype('int64')"
   ]
  },
  {
   "cell_type": "code",
   "execution_count": 8,
   "id": "f363264d-6582-4927-a426-ee3e019feb48",
   "metadata": {},
   "outputs": [],
   "source": [
    "# missing PRECINCTS_GJ\n",
    "# get_precinct_id(df.startstation_latitude, df.startstation_longitude)"
   ]
  },
  {
   "cell_type": "code",
   "execution_count": 9,
   "id": "9a9f287e-9a5f-48ef-a29e-acf3d8e71cca",
   "metadata": {},
   "outputs": [
    {
     "data": {
      "text/html": [
       "<div>\n",
       "<style scoped>\n",
       "    .dataframe tbody tr th:only-of-type {\n",
       "        vertical-align: middle;\n",
       "    }\n",
       "\n",
       "    .dataframe tbody tr th {\n",
       "        vertical-align: top;\n",
       "    }\n",
       "\n",
       "    .dataframe thead th {\n",
       "        text-align: right;\n",
       "    }\n",
       "</style>\n",
       "<table border=\"1\" class=\"dataframe\">\n",
       "  <thead>\n",
       "    <tr style=\"text-align: right;\">\n",
       "      <th></th>\n",
       "      <th>startstation_latitude</th>\n",
       "      <th>startstation_longitude</th>\n",
       "      <th>endstation_latitude</th>\n",
       "      <th>endstation_longitude</th>\n",
       "      <th>birthyear</th>\n",
       "      <th>gender</th>\n",
       "      <th>year</th>\n",
       "    </tr>\n",
       "  </thead>\n",
       "  <tbody>\n",
       "    <tr>\n",
       "      <th>count</th>\n",
       "      <td>2.455844e+07</td>\n",
       "      <td>2.455844e+07</td>\n",
       "      <td>2.455844e+07</td>\n",
       "      <td>2.455844e+07</td>\n",
       "      <td>2.455844e+07</td>\n",
       "      <td>2.455844e+07</td>\n",
       "      <td>2.455844e+07</td>\n",
       "    </tr>\n",
       "    <tr>\n",
       "      <th>mean</th>\n",
       "      <td>4.073622e+01</td>\n",
       "      <td>-7.398856e+01</td>\n",
       "      <td>4.073576e+01</td>\n",
       "      <td>-7.398852e+01</td>\n",
       "      <td>1.976909e+03</td>\n",
       "      <td>1.235978e+00</td>\n",
       "      <td>2.015087e+03</td>\n",
       "    </tr>\n",
       "    <tr>\n",
       "      <th>std</th>\n",
       "      <td>2.581520e-02</td>\n",
       "      <td>2.960386e-02</td>\n",
       "      <td>7.789566e-02</td>\n",
       "      <td>1.367851e-01</td>\n",
       "      <td>1.147031e+01</td>\n",
       "      <td>4.246087e-01</td>\n",
       "      <td>8.010296e-01</td>\n",
       "    </tr>\n",
       "    <tr>\n",
       "      <th>min</th>\n",
       "      <td>0.000000e+00</td>\n",
       "      <td>-7.402545e+01</td>\n",
       "      <td>0.000000e+00</td>\n",
       "      <td>-7.405950e+01</td>\n",
       "      <td>1.921000e+03</td>\n",
       "      <td>1.000000e+00</td>\n",
       "      <td>2.014000e+03</td>\n",
       "    </tr>\n",
       "    <tr>\n",
       "      <th>25%</th>\n",
       "      <td>4.072205e+01</td>\n",
       "      <td>-7.399851e+01</td>\n",
       "      <td>4.072182e+01</td>\n",
       "      <td>-7.399906e+01</td>\n",
       "      <td>1.969000e+03</td>\n",
       "      <td>1.000000e+00</td>\n",
       "      <td>2.014000e+03</td>\n",
       "    </tr>\n",
       "    <tr>\n",
       "      <th>50%</th>\n",
       "      <td>4.073726e+01</td>\n",
       "      <td>-7.398998e+01</td>\n",
       "      <td>4.073705e+01</td>\n",
       "      <td>-7.399003e+01</td>\n",
       "      <td>1.979000e+03</td>\n",
       "      <td>1.000000e+00</td>\n",
       "      <td>2.015000e+03</td>\n",
       "    </tr>\n",
       "    <tr>\n",
       "      <th>75%</th>\n",
       "      <td>4.075140e+01</td>\n",
       "      <td>-7.398042e+01</td>\n",
       "      <td>4.075097e+01</td>\n",
       "      <td>-7.398057e+01</td>\n",
       "      <td>1.986000e+03</td>\n",
       "      <td>1.000000e+00</td>\n",
       "      <td>2.016000e+03</td>\n",
       "    </tr>\n",
       "    <tr>\n",
       "      <th>max</th>\n",
       "      <td>4.080421e+01</td>\n",
       "      <td>0.000000e+00</td>\n",
       "      <td>4.080421e+01</td>\n",
       "      <td>0.000000e+00</td>\n",
       "      <td>2.000000e+03</td>\n",
       "      <td>2.000000e+00</td>\n",
       "      <td>2.016000e+03</td>\n",
       "    </tr>\n",
       "  </tbody>\n",
       "</table>\n",
       "</div>"
      ],
      "text/plain": [
       "       startstation_latitude  startstation_longitude  endstation_latitude  \\\n",
       "count           2.455844e+07            2.455844e+07         2.455844e+07   \n",
       "mean            4.073622e+01           -7.398856e+01         4.073576e+01   \n",
       "std             2.581520e-02            2.960386e-02         7.789566e-02   \n",
       "min             0.000000e+00           -7.402545e+01         0.000000e+00   \n",
       "25%             4.072205e+01           -7.399851e+01         4.072182e+01   \n",
       "50%             4.073726e+01           -7.398998e+01         4.073705e+01   \n",
       "75%             4.075140e+01           -7.398042e+01         4.075097e+01   \n",
       "max             4.080421e+01            0.000000e+00         4.080421e+01   \n",
       "\n",
       "       endstation_longitude     birthyear        gender          year  \n",
       "count          2.455844e+07  2.455844e+07  2.455844e+07  2.455844e+07  \n",
       "mean          -7.398852e+01  1.976909e+03  1.235978e+00  2.015087e+03  \n",
       "std            1.367851e-01  1.147031e+01  4.246087e-01  8.010296e-01  \n",
       "min           -7.405950e+01  1.921000e+03  1.000000e+00  2.014000e+03  \n",
       "25%           -7.399906e+01  1.969000e+03  1.000000e+00  2.014000e+03  \n",
       "50%           -7.399003e+01  1.979000e+03  1.000000e+00  2.015000e+03  \n",
       "75%           -7.398057e+01  1.986000e+03  1.000000e+00  2.016000e+03  \n",
       "max            0.000000e+00  2.000000e+03  2.000000e+00  2.016000e+03  "
      ]
     },
     "execution_count": 9,
     "metadata": {},
     "output_type": "execute_result"
    }
   ],
   "source": [
    "df.describe()"
   ]
  },
  {
   "cell_type": "code",
   "execution_count": 10,
   "id": "5a2721d5-cee6-47ff-a8a5-59ea7d1a81a8",
   "metadata": {},
   "outputs": [
    {
     "data": {
      "image/png": "[encoded data removed]",
      "text/plain": [
       "<Figure size 640x480 with 1 Axes>"
      ]
     },
     "metadata": {},
     "output_type": "display_data"
    }
   ],
   "source": [
    "sns.histplot(df.birthyear, bins=20)\n",
    "plt.show()"
   ]
  },
  {
   "cell_type": "code",
   "execution_count": 11,
   "id": "a574557e-609b-42fe-9768-bec8241fad41",
   "metadata": {},
   "outputs": [
    {
     "data": {
      "image/png": "[encoded data removed]",
      "text/plain": [
       "<Figure size 640x480 with 1 Axes>"
      ]
     },
     "metadata": {},
     "output_type": "display_data"
    }
   ],
   "source": [
    "plt.pie([np.mean(df.gender == 1), np.mean(df.gender == 2)], labels=['1', '2'], autopct='%.0f%%')\n",
    "plt.show()"
   ]
  },
  {
   "cell_type": "code",
   "execution_count": 12,
   "id": "0121bac9-6a6d-423f-80d7-2fa3ead0a443",
   "metadata": {},
   "outputs": [
    {
     "data": {
      "image/png": "[encoded data removed]",
      "text/plain": [
       "<Figure size 640x480 with 1 Axes>"
      ]
     },
     "metadata": {},
     "output_type": "display_data"
    }
   ],
   "source": [
    "sns.histplot(df.year, bins=3)\n",
    "plt.show()"
   ]
  },
  {
   "cell_type": "code",
   "execution_count": 13,
   "id": "1b47eb06-7352-4a88-9893-59bc19ad9531",
   "metadata": {},
   "outputs": [
    {
     "data": {
      "image/png": "[encoded data removed]",
      "text/plain": [
       "<Figure size 640x480 with 1 Axes>"
      ]
     },
     "metadata": {},
     "output_type": "display_data"
    }
   ],
   "source": [
    "sns.histplot(df[df.gender == 1].birthyear, bins=20, color='r')\n",
    "sns.histplot(df[df.gender == 2].birthyear, bins=20)\n",
    "plt.legend(['Gender 1', 'Gender 2'])\n",
    "plt.show()"
   ]
  },
  {
   "cell_type": "code",
   "execution_count": 14,
   "id": "cfea198d-3f53-4e28-9580-080fe072c519",
   "metadata": {},
   "outputs": [
    {
     "data": {
      "image/png": "[encoded data removed]",
      "text/plain": [
       "<Figure size 640x480 with 1 Axes>"
      ]
     },
     "metadata": {},
     "output_type": "display_data"
    }
   ],
   "source": [
    "sns.histplot(df[df.gender == 1].year, bins=3, color='r')\n",
    "sns.histplot(df[df.gender == 2].year, bins=3)\n",
    "plt.legend(['Gender 1', 'Gender 2'])\n",
    "plt.show()"
   ]
  },
  {
   "cell_type": "code",
   "execution_count": 15,
   "id": "3b855f60-3d81-4944-9867-f8cc294beaa7",
   "metadata": {
    "pycharm": {
     "name": "#%%\n"
    }
   },
   "outputs": [],
   "source": [
    "df.to_pickle('citi-data.pkl')"
   ]
  }
 ],
 "metadata": {
  "kernelspec": {
   "display_name": "Python 3 (ipykernel)",
   "language": "python",
   "name": "python3"
  },
  "language_info": {
   "codemirror_mode": {
    "name": "ipython",
    "version": 3
   },
   "file_extension": ".py",
   "mimetype": "text/x-python",
   "name": "python",
   "nbconvert_exporter": "python",
   "pygments_lexer": "ipython3",
   "version": "3.9.16"
  }
 },
 "nbformat": 4,
 "nbformat_minor": 5
}
