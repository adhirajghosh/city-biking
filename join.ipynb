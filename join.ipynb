{
 "cells": [
  {
   "cell_type": "code",
   "execution_count": 1,
   "id": "644fb806-68dd-4031-bbc4-ea3378850235",
   "metadata": {},
   "outputs": [
    {
     "name": "stderr",
     "output_type": "stream",
     "text": [
      "C:\\Users\\Ignacio\\Ignacio\\Uni\\Y4\\DLY\\Project\\city-biking\\ksi_data_generator.py:37: FutureWarning: The frame.append method is deprecated and will be removed from pandas in a future version. Use pandas.concat instead.\n",
      "  df_main = pd.concat(df14).append(pd.concat(df15), ignore_index=True).append(pd.concat(df16), ignore_index=True).append(\n"
     ]
    }
   ],
   "source": [
    "import numpy as np\n",
    "import pandas as pd\n",
    "import matplotlib.pyplot as plt\n",
    "import seaborn as sns\n",
    "\n",
    "from ksi_data_generator import *\n",
    "from data_loading import *"
   ]
  },
  {
   "cell_type": "code",
   "execution_count": 2,
   "id": "34b317de-ab5f-4fa8-a381-76e41b04785c",
   "metadata": {},
   "outputs": [
    {
     "name": "stderr",
     "output_type": "stream",
     "text": [
      "C:\\Users\\Ignacio\\Ignacio\\Uni\\Y4\\DLY\\Project\\city-biking\\ksi_data_generator.py:37: FutureWarning: The frame.append method is deprecated and will be removed from pandas in a future version. Use pandas.concat instead.\n",
      "  df_main = pd.concat(df14).append(pd.concat(df15), ignore_index=True).append(pd.concat(df16), ignore_index=True).append(\n",
      "C:\\Users\\Ignacio\\AppData\\Local\\Temp\\ipykernel_24704\\138759982.py:4: FutureWarning: The default value of numeric_only in DataFrameGroupBy.sum is deprecated. In a future version, numeric_only will default to False. Either specify numeric_only or select only columns which should be valid for the function.\n",
      "  ksi = ksi.groupby(['precinct', 'year']).sum()\n"
     ]
    }
   ],
   "source": [
    "ksi = generate_ksi_df()\n",
    "\n",
    "ksi = ksi.reset_index(drop=True)\n",
    "ksi = ksi.groupby(['precinct', 'year']).sum()\n",
    "ksi = ksi.sort_index()"
   ]
  },
  {
   "cell_type": "code",
   "execution_count": 3,
   "id": "bba64304-4037-42fd-a8d6-ba1cf7c6afb5",
   "metadata": {},
   "outputs": [],
   "source": [
    "bike_count = processCitibikeDataset()\n",
    "\n",
    "bike_count.columns = list(map(int, bike_count.columns))\n",
    "\n",
    "bike_count.index = bike_count.index.year\n",
    "bike_count = pd.DataFrame(bike_count.rolling(12).sum().iloc[range(11, 72, 12)].unstack(), columns = ['count'])\n",
    "bike_count.index.names = ['precinct', 'year']"
   ]
  },
  {
   "cell_type": "code",
   "execution_count": 5,
   "id": "02706ff7-57f1-4ac7-a12f-d501d07532a4",
   "metadata": {},
   "outputs": [],
   "source": [
    "df = ksi.join(bike_count, how='inner')"
   ]
  },
  {
   "cell_type": "code",
   "execution_count": null,
   "id": "d96ca4b4-dc27-4a98-b1c8-8dce021b37ca",
   "metadata": {},
   "outputs": [],
   "source": []
  }
 ],
 "metadata": {
  "kernelspec": {
   "display_name": "Python 3 (ipykernel)",
   "language": "python",
   "name": "python3"
  },
  "language_info": {
   "codemirror_mode": {
    "name": "ipython",
    "version": 3
   },
   "file_extension": ".py",
   "mimetype": "text/x-python",
   "name": "python",
   "nbconvert_exporter": "python",
   "pygments_lexer": "ipython3",
   "version": "3.9.16"
  }
 },
 "nbformat": 4,
 "nbformat_minor": 5
}
