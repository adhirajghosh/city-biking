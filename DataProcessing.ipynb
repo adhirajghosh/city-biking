{
 "cells": [
  {
   "cell_type": "code",
   "execution_count": 1,
   "id": "0edf30a3-895a-41a3-9196-7735965f0103",
   "metadata": {},
   "outputs": [],
   "source": [
    "import pandas as pd\n",
    "import numpy as np\n",
    "from scipy.interpolate import CubicSpline\n",
    "import pickle"
   ]
  },
  {
   "cell_type": "code",
   "execution_count": 2,
   "id": "56d60262-467c-4165-9a0a-33f1bf2268be",
   "metadata": {},
   "outputs": [],
   "source": [
    "all_dfs = pickle.load(open('data/all_dfs.pkl', 'rb'))"
   ]
  },
  {
   "cell_type": "code",
   "execution_count": 3,
   "id": "e6f10b53-7553-45bf-901c-00e2a4ff1acb",
   "metadata": {},
   "outputs": [],
   "source": [
    "all_precincts = ['1', '5', '6', '7', '9', '10', '13', '14', '17', '18', '19', '20', '22',\n",
    "       '23', '24', '25', '26', '28', '30', '32', '33', '34', '40', '41', '42',\n",
    "       '43', '44', '45', '46', '47', '48', '49', '50', '52', '60', '61', '62',\n",
    "       '63', '66', '67', '68', '69', '70', '71', '72', '73', '75', '76', '77',\n",
    "       '78', '79', '81', '83', '84', '88', '90', '94', '100', '101', '102',\n",
    "       '103', '104', '105', '106', '107', '108', '109', '110', '111', '112',\n",
    "       '113', '114', '115', '120', '121', '122', '123']"
   ]
  },
  {
   "cell_type": "code",
   "execution_count": 4,
   "id": "16c27376-ed98-4c6e-9b90-af3100d6ff0a",
   "metadata": {},
   "outputs": [],
   "source": [
    "bike_counts = np.zeros(shape=len(all_precincts), dtype='int64')\n",
    "\n",
    "for key in list(all_dfs.keys()):\n",
    "    all_dfs[key] = all_dfs[key].loc[np.all(all_dfs[key].notna(), axis=1)]\n",
    "    unique_precincts, counts = np.unique(all_dfs[key], return_counts=True)\n",
    "    counts = counts[np.argsort(list(map(int, list(unique_precincts))))]\n",
    "\n",
    "    diff = list(map(int, list(set(all_precincts) - set(unique_precincts))))\n",
    "    diff.sort()\n",
    "    diff = list(map(str, diff))\n",
    "\n",
    "    for precinct in diff:\n",
    "        idx = all_precincts.index(precinct)\n",
    "        counts = np.insert(counts, idx, 0)\n",
    "    \n",
    "    bike_counts = np.vstack([bike_counts, counts/2])\n",
    "\n",
    "bike_counts = bike_counts[1:]"
   ]
  },
  {
   "cell_type": "code",
   "execution_count": 5,
   "id": "a778a4f3-c6b3-4205-a1fa-b25d69adebc4",
   "metadata": {},
   "outputs": [
    {
     "ename": "NameError",
     "evalue": "name 'bike_count' is not defined",
     "output_type": "error",
     "traceback": [
      "\u001b[1;31m---------------------------------------------------------------------------\u001b[0m",
      "\u001b[1;31mNameError\u001b[0m                                 Traceback (most recent call last)",
      "Cell \u001b[1;32mIn[5], line 1\u001b[0m\n\u001b[1;32m----> 1\u001b[0m df \u001b[38;5;241m=\u001b[39m pd\u001b[38;5;241m.\u001b[39mDataFrame(\u001b[43mbike_count\u001b[49m, columns\u001b[38;5;241m=\u001b[39mall_precincts)\n",
      "\u001b[1;31mNameError\u001b[0m: name 'bike_count' is not defined"
     ]
    }
   ],
   "source": [
    "df = pd.DataFrame(bike_count, columns=all_precincts)"
   ]
  },
  {
   "cell_type": "code",
   "execution_count": null,
   "id": "7c3441c9-d7d8-4e2a-8f70-18bf26a2a144",
   "metadata": {},
   "outputs": [],
   "source": [
    "df.head()"
   ]
  },
  {
   "cell_type": "code",
   "execution_count": null,
   "id": "6ae956c6-c726-492b-8e9d-aeb5663687b4",
   "metadata": {},
   "outputs": [],
   "source": [
    "keys = ['201' + str(Y) + '-' + str(M).rjust(2, '0') for Y in range(4, 10) for M in range(1, 13)]\n",
    "df.index = list(all_dfs.keys())\n",
    "diff = list(set(keys) - set(all_dfs.keys()))\n",
    "diff.sort()"
   ]
  },
  {
   "cell_type": "code",
   "execution_count": null,
   "id": "2f8981a4-edc3-47af-9bc2-b82d9065b282",
   "metadata": {},
   "outputs": [],
   "source": [
    "for key in diff:\n",
    "    df.loc[key] = np.zeros(shape=len(all_precincts), dtype='int64')"
   ]
  },
  {
   "cell_type": "code",
   "execution_count": null,
   "id": "0c5b0e65-d2fa-47f6-82f8-b29e6c6929b6",
   "metadata": {},
   "outputs": [],
   "source": [
    "df = df.sort_index()"
   ]
  },
  {
   "cell_type": "code",
   "execution_count": null,
   "id": "3b21b322-6115-42e0-b1f8-5c63b4207716",
   "metadata": {},
   "outputs": [],
   "source": [
    "df"
   ]
  },
  {
   "cell_type": "code",
   "execution_count": null,
   "id": "48e49429-c298-4e00-924e-d7b67d9eb8be",
   "metadata": {},
   "outputs": [],
   "source": []
  }
 ],
 "metadata": {
  "kernelspec": {
   "display_name": "Python 3 (ipykernel)",
   "language": "python",
   "name": "python3"
  },
  "language_info": {
   "codemirror_mode": {
    "name": "ipython",
    "version": 3
   },
   "file_extension": ".py",
   "mimetype": "text/x-python",
   "name": "python",
   "nbconvert_exporter": "python",
   "pygments_lexer": "ipython3",
   "version": "3.9.16"
  }
 },
 "nbformat": 4,
 "nbformat_minor": 5
}
