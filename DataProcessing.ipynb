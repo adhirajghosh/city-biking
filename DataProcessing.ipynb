{
 "cells": [
  {
   "cell_type": "code",
   "execution_count": 1,
   "id": "0edf30a3-895a-41a3-9196-7735965f0103",
   "metadata": {},
   "outputs": [],
   "source": [
    "import pandas as pd\n",
    "import numpy as np"
   ]
  },
  {
   "cell_type": "code",
   "execution_count": 2,
   "id": "984a7543-6b7e-42b0-8af9-a25c81b1f479",
   "metadata": {},
   "outputs": [],
   "source": [
    "low=1\n",
    "high=15\n",
    "\n",
    "all_dfs = {}\n",
    "for i in range(10, 23):\n",
    "    all_dfs['2014-' + str(i)] = df = pd.DataFrame(np.random.randint(low=low, high=high, size=(20, 2)), columns=['start_station_id', 'end_station_id'])"
   ]
  },
  {
   "cell_type": "code",
   "execution_count": 3,
   "id": "16c27376-ed98-4c6e-9b90-af3100d6ff0a",
   "metadata": {},
   "outputs": [],
   "source": [
    "bike_count = np.empty(shape=(high-low), dtype='int')\n",
    "\n",
    "for key in list(all_dfs.keys()):\n",
    "    u_start, c_start = np.unique(all_dfs[key].start_station_id, return_counts=True)\n",
    "    u_end, c_end = np.unique(all_dfs[key].end_station_id, return_counts=True)\n",
    "    \n",
    "    # if a precinct is not the start point for any trip\n",
    "    if len(set(np.array(range(low, high))) - set(u_start)) > 0:\n",
    "        for i in list(set(np.array(range(low, high))) - set(u_start)):\n",
    "            c_start = np.insert(c_start, 0, i)\n",
    "    \n",
    "    # if a precinct is not the end point for any trip\n",
    "    if len(set(np.array(range(low, high))) - set(u_end)) > 0:\n",
    "        for i in list(set(np.array(range(low, high))) - set(u_end)):\n",
    "            c_end = np.insert(c_end, 0, i)\n",
    "    \n",
    "    bike_count = np.vstack([bike_count, (c_start + c_end)/2])\n",
    "\n",
    "bike_count = np.einsum('ij->ji', bike_count)"
   ]
  },
  {
   "cell_type": "code",
   "execution_count": 4,
   "id": "6ec0a71b-4de1-414e-9d39-0f1fc37606b3",
   "metadata": {},
   "outputs": [
    {
     "data": {
      "text/plain": [
       "array([[4.128860e+06, 6.000000e+00, 1.250000e+01, 1.050000e+01,\n",
       "        1.050000e+01, 8.000000e+00, 1.200000e+01, 5.500000e+00,\n",
       "        8.500000e+00, 1.000000e+01, 8.500000e+00, 1.050000e+01,\n",
       "        1.300000e+01, 5.500000e+00],\n",
       "       [6.029375e+06, 1.000000e+01, 6.000000e+00, 7.000000e+00,\n",
       "        5.500000e+00, 7.500000e+00, 6.000000e+00, 8.000000e+00,\n",
       "        1.100000e+01, 9.000000e+00, 1.100000e+01, 9.000000e+00,\n",
       "        6.000000e+00, 8.000000e+00],\n",
       "       [3.801155e+06, 5.000000e+00, 6.500000e+00, 7.000000e+00,\n",
       "        5.000000e+00, 1.150000e+01, 2.000000e+00, 1.050000e+01,\n",
       "        5.000000e+00, 8.500000e+00, 4.500000e+00, 3.500000e+00,\n",
       "        5.000000e+00, 6.500000e+00],\n",
       "       [5.570652e+06, 1.000000e+00, 1.000000e+00, 1.000000e+00,\n",
       "        3.000000e+00, 5.500000e+00, 2.500000e+00, 1.000000e+00,\n",
       "        3.000000e+00, 5.000000e+00, 6.500000e+00, 3.500000e+00,\n",
       "        4.000000e+00, 9.000000e+00],\n",
       "       [6.619251e+06, 2.000000e+00, 2.000000e+00, 1.000000e+00,\n",
       "        1.500000e+00, 1.500000e+00, 1.500000e+00, 1.500000e+00,\n",
       "        1.000000e+00, 3.500000e+00, 1.500000e+00, 4.000000e+00,\n",
       "        2.500000e+00, 2.000000e+00],\n",
       "       [7.536754e+06, 1.000000e+00, 1.500000e+00, 1.500000e+00,\n",
       "        2.500000e+00, 1.500000e+00, 1.000000e+00, 1.500000e+00,\n",
       "        2.500000e+00, 1.000000e+00, 1.500000e+00, 3.500000e+00,\n",
       "        2.000000e+00, 1.000000e+00],\n",
       "       [4.784220e+06, 3.000000e+00, 2.000000e+00, 2.000000e+00,\n",
       "        1.000000e+00, 2.500000e+00, 2.000000e+00, 2.000000e+00,\n",
       "        3.000000e+00, 4.000000e+00, 1.500000e+00, 1.500000e+00,\n",
       "        2.500000e+00, 2.000000e+00],\n",
       "       [7.209063e+06, 1.000000e+00, 1.500000e+00, 2.500000e+00,\n",
       "        2.000000e+00, 1.500000e+00, 1.500000e+00, 2.500000e+00,\n",
       "        1.500000e+00, 1.500000e+00, 1.500000e+00, 1.500000e+00,\n",
       "        1.500000e+00, 2.000000e+00],\n",
       "       [6.488161e+06, 1.000000e+00, 2.500000e+00, 1.500000e+00,\n",
       "        1.500000e+00, 1.500000e+00, 1.500000e+00, 1.500000e+00,\n",
       "        1.000000e+00, 2.000000e+00, 2.500000e+00, 1.500000e+00,\n",
       "        2.500000e+00, 1.000000e+00],\n",
       "       [7.274601e+06, 1.500000e+00, 2.000000e+00, 1.500000e+00,\n",
       "        1.000000e+00, 2.000000e+00, 2.000000e+00, 2.000000e+00,\n",
       "        2.500000e+00, 1.000000e+00, 1.500000e+00, 1.000000e+00,\n",
       "        1.500000e+00, 2.000000e+00],\n",
       "       [0.000000e+00, 4.000000e+00, 1.500000e+00, 2.500000e+00,\n",
       "        2.000000e+00, 2.500000e+00, 1.500000e+00, 2.000000e+00,\n",
       "        2.000000e+00, 2.000000e+00, 2.000000e+00, 1.000000e+00,\n",
       "        3.500000e+00, 3.500000e+00],\n",
       "       [0.000000e+00, 1.000000e+00, 2.000000e+00, 2.500000e+00,\n",
       "        1.000000e+00, 1.000000e+00, 1.000000e+00, 2.500000e+00,\n",
       "        1.000000e+00, 4.000000e+00, 2.000000e+00, 1.000000e+00,\n",
       "        2.000000e+00, 2.000000e+00],\n",
       "       [0.000000e+00, 1.000000e+00, 1.500000e+00, 2.000000e+00,\n",
       "        2.500000e+00, 2.500000e+00, 2.000000e+00, 3.000000e+00,\n",
       "        3.500000e+00, 1.500000e+00, 2.500000e+00, 2.000000e+00,\n",
       "        1.500000e+00, 2.500000e+00],\n",
       "       [0.000000e+00, 2.500000e+00, 1.500000e+00, 2.500000e+00,\n",
       "        1.000000e+00, 2.500000e+00, 1.500000e+00, 1.000000e+00,\n",
       "        1.500000e+00, 1.500000e+00, 2.500000e+00, 1.500000e+00,\n",
       "        1.500000e+00, 2.000000e+00]])"
      ]
     },
     "execution_count": 4,
     "metadata": {},
     "output_type": "execute_result"
    }
   ],
   "source": [
    "bike_count"
   ]
  },
  {
   "cell_type": "code",
   "execution_count": null,
   "id": "f9de5791-a05e-4896-82b7-eacda89fc8f5",
   "metadata": {},
   "outputs": [],
   "source": []
  }
 ],
 "metadata": {
  "kernelspec": {
   "display_name": "Python 3 (ipykernel)",
   "language": "python",
   "name": "python3"
  },
  "language_info": {
   "codemirror_mode": {
    "name": "ipython",
    "version": 3
   },
   "file_extension": ".py",
   "mimetype": "text/x-python",
   "name": "python",
   "nbconvert_exporter": "python",
   "pygments_lexer": "ipython3",
   "version": "3.9.16"
  }
 },
 "nbformat": 4,
 "nbformat_minor": 5
}
